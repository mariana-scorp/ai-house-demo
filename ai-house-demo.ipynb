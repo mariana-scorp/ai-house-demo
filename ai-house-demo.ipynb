{
 "cells": [
  {
   "cell_type": "markdown",
   "id": "237bf899",
   "metadata": {},
   "source": [
    "# Demo for the AI House Meetup 29.02.2024"
   ]
  },
  {
   "cell_type": "markdown",
   "id": "e9670223",
   "metadata": {},
   "source": [
    "## Prompts without templates"
   ]
  },
  {
   "cell_type": "code",
   "execution_count": 1,
   "id": "d146578d",
   "metadata": {},
   "outputs": [
    {
     "name": "stdout",
     "output_type": "stream",
     "text": [
      "\n",
      "You are an expert in axolotls.\n",
      "You know everything about these creatures.\n",
      "\n",
      "I need information about them.\n",
      "\n"
     ]
    }
   ],
   "source": [
    "# Example 1. We have a variable.\n",
    "\n",
    "animal = \"axolotls\"\n",
    "\n",
    "prompt = f\"\"\"\n",
    "You are an expert in {animal}.\n",
    "You know everything about these creatures.\n",
    "\n",
    "I need information about them.\n",
    "\"\"\"\n",
    "\n",
    "print(prompt)"
   ]
  },
  {
   "cell_type": "code",
   "execution_count": 2,
   "id": "51e6698a",
   "metadata": {},
   "outputs": [
    {
     "name": "stdout",
     "output_type": "stream",
     "text": [
      "\n",
      "You are an expert in axolotls.\n",
      "You know everything about these creatures.\n",
      "\n",
      "I need information about the following characteristics:\n",
      "- average size\n",
      "- maximum age\n",
      "- place of habitat\n",
      "\n"
     ]
    }
   ],
   "source": [
    "# Example 2. We have a variable and a list.\n",
    "\n",
    "animal = \"axolotls\"\n",
    "features = \"\\n- \".join([\"average size\", \"maximum age\",\n",
    "                        \"place of habitat\"])\n",
    "\n",
    "prompt = f\"\"\"\n",
    "You are an expert in {animal}.\n",
    "You know everything about these creatures.\n",
    "\n",
    "I need information about the following characteristics:\n",
    "- {features}\n",
    "\"\"\"\n",
    "\n",
    "print(prompt)"
   ]
  },
  {
   "cell_type": "code",
   "execution_count": 3,
   "id": "573886bc",
   "metadata": {},
   "outputs": [
    {
     "name": "stdout",
     "output_type": "stream",
     "text": [
      "\n",
      "You are an expert in axolotls.\n",
      "You know everything about these creatures.\n",
      "\n",
      "Onwards discuss only Copper Axolotl. I need information about the following characteristics:\n",
      "- average size\n",
      "- maximum age\n",
      "- place of habitat\n",
      "\n"
     ]
    }
   ],
   "source": [
    "# Example 3. We have a variable, a list, and a conditon.\n",
    "\n",
    "animal = \"axolotls\"\n",
    "features = \"\\n- \".join([\"average size\", \"maximum age\",\n",
    "                        \"place of habitat\"])\n",
    "\n",
    "kind = \"Copper Axolotl\"\n",
    "kind_str = \"\" if kind == None \\\n",
    "              else f\"Onwards discuss only {kind}. \"\n",
    "\n",
    "prompt = f\"\"\"\n",
    "You are an expert in {animal}.\n",
    "You know everything about these creatures.\n",
    "\n",
    "{kind_str}I need information about the following characteristics:\n",
    "- {features}\n",
    "\"\"\"\n",
    "\n",
    "print(prompt)"
   ]
  },
  {
   "cell_type": "markdown",
   "id": "4869e7fd",
   "metadata": {},
   "source": [
    "## Prompts with templates"
   ]
  },
  {
   "cell_type": "code",
   "execution_count": 4,
   "id": "54da6b84",
   "metadata": {},
   "outputs": [],
   "source": [
    "# !pip install langchain"
   ]
  },
  {
   "cell_type": "code",
   "execution_count": 5,
   "id": "d33219a6",
   "metadata": {},
   "outputs": [],
   "source": [
    "from langchain.prompts import PromptTemplate"
   ]
  },
  {
   "cell_type": "code",
   "execution_count": 6,
   "id": "459d61b7",
   "metadata": {},
   "outputs": [
    {
     "name": "stdout",
     "output_type": "stream",
     "text": [
      "\n",
      "You are an expert in axolotls.\n",
      "You know everything about these creatures.\n",
      "\n",
      "I need information about them.\n",
      "\n"
     ]
    }
   ],
   "source": [
    "# Example 1. We have a variable and use standard formatting.\n",
    "\n",
    "template = \"\"\"\n",
    "You are an expert in {animal}.\n",
    "You know everything about these creatures.\n",
    "\n",
    "I need information about them.\n",
    "\"\"\"\n",
    "\n",
    "prompt_t = PromptTemplate.from_template(\n",
    "    template\n",
    ")\n",
    "\n",
    "prompt = prompt_t.format(animal=\"axolotls\")\n",
    "\n",
    "print(prompt)"
   ]
  },
  {
   "cell_type": "code",
   "execution_count": 7,
   "id": "6438d0b2",
   "metadata": {},
   "outputs": [
    {
     "name": "stdout",
     "output_type": "stream",
     "text": [
      "\n",
      "You are an expert in axolotls.\n",
      "You know everything about these creatures.\n",
      "\n",
      "I need information about the following characteristics:\n",
      "- average size\n",
      "- maximum age\n",
      "- place of habitat\n",
      "\n"
     ]
    }
   ],
   "source": [
    "# Example 2. We have a variable and a list. Use Jinja.\n",
    "\n",
    "template = \"\"\"\n",
    "You are an expert in {{ animal }}.\n",
    "You know everything about these creatures.\n",
    "\n",
    "I need information about the following characteristics:\n",
    "{% for feat in features -%}\n",
    "- {{ feat }}\n",
    "{% endfor %}\n",
    "\"\"\"\n",
    "\n",
    "prompt_jinja_t = PromptTemplate.from_template(\n",
    "    template,\n",
    "    template_format=\"jinja2\"\n",
    ")\n",
    "\n",
    "prompt = prompt_jinja_t.format(\n",
    "    animal=\"axolotls\",\n",
    "    features=[\"average size\", \"maximum age\", \"place of habitat\"]\n",
    ")\n",
    "\n",
    "print(prompt)"
   ]
  },
  {
   "cell_type": "code",
   "execution_count": 8,
   "id": "c5564f46",
   "metadata": {},
   "outputs": [
    {
     "name": "stdout",
     "output_type": "stream",
     "text": [
      "\n",
      "You are an expert in axolotls.\n",
      "You know everything about these creatures.\n",
      "\n",
      "Onwards discuss only Copper Axolotl. I need information about the following characteristics:\n",
      "- average size\n",
      "- maximum age\n",
      "- place of habitat\n",
      "\n"
     ]
    }
   ],
   "source": [
    "# Example 2. We have a variable, a list, and a condition. Use Jinja.\n",
    "\n",
    "template = \"\"\"\n",
    "You are an expert in {{ animal }}.\n",
    "You know everything about these creatures.\n",
    "\n",
    "{% if kind %}Onwards discuss only {{ kind }}. {% endif %}\\\n",
    "I need information about the following characteristics:\n",
    "{% for feat in features -%}\n",
    "- {{ feat }}\n",
    "{% endfor %}\n",
    "\"\"\"\n",
    "\n",
    "prompt_jinja_t = PromptTemplate.from_template(\n",
    "    template,\n",
    "    template_format=\"jinja2\"\n",
    ")\n",
    "\n",
    "prompt = prompt_jinja_t.format(\n",
    "    animal=\"axolotls\",\n",
    "    kind = \"Copper Axolotl\",\n",
    "    features=[\"average size\", \"maximum age\", \"place of habitat\"]\n",
    ")\n",
    "\n",
    "print(prompt)"
   ]
  },
  {
   "cell_type": "code",
   "execution_count": 9,
   "id": "db927612",
   "metadata": {},
   "outputs": [],
   "source": [
    "# You can save templates as files.\n",
    "\n",
    "with open(\"templates/animal-expert.j2\", \"r\") as f:\n",
    "    template = f.read()\n",
    "\n",
    "prompt_jinja_t = PromptTemplate.from_template(\n",
    "    template,\n",
    "    template_format=\"jinja2\"\n",
    ")"
   ]
  },
  {
   "cell_type": "code",
   "execution_count": 10,
   "id": "078a5f74",
   "metadata": {},
   "outputs": [
    {
     "name": "stdout",
     "output_type": "stream",
     "text": [
      "You are an expert in axolotls.\n",
      "You know everything about these creatures.\n",
      "\n",
      "Onwards discuss only Copper Axolotl. I need information about the following characteristics:\n",
      "- average size\n",
      "- maximum age\n",
      "- place of habitat\n",
      "\n"
     ]
    }
   ],
   "source": [
    "prompt = prompt_jinja_t.format(\n",
    "    animal=\"axolotls\",\n",
    "    kind = \"Copper Axolotl\",\n",
    "    features=[\"average size\", \"maximum age\", \"place of habitat\"]\n",
    ")\n",
    "\n",
    "print(prompt)"
   ]
  },
  {
   "cell_type": "code",
   "execution_count": 11,
   "id": "5f31577a",
   "metadata": {},
   "outputs": [
    {
     "name": "stdout",
     "output_type": "stream",
     "text": [
      "You are an expert in axolotls.\n",
      "You know everything about these creatures.\n",
      "\n",
      "I need information about the following characteristics:\n",
      "- average size\n",
      "- maximum age\n",
      "- place of habitat\n",
      "\n"
     ]
    }
   ],
   "source": [
    "prompt = prompt_jinja_t.format(\n",
    "    animal=\"axolotls\",\n",
    "    kind = None,\n",
    "    features=[\"average size\", \"maximum age\", \"place of habitat\"]\n",
    ")\n",
    "\n",
    "print(prompt)"
   ]
  },
  {
   "cell_type": "code",
   "execution_count": 12,
   "id": "7a126719",
   "metadata": {},
   "outputs": [
    {
     "name": "stdout",
     "output_type": "stream",
     "text": [
      "You are an expert in cute axolotls.\n",
      "You know everything about these creatures.\n",
      "\n",
      "Onwards discuss only cute Copper Axolotl. I need information about the following characteristics:\n",
      "- average size\n",
      "- maximum age\n",
      "- place of habitat\n",
      "\n"
     ]
    }
   ],
   "source": [
    "# Jinja also supports macros. Check out \"animal-expert-w-macro.j2\".\n",
    "\n",
    "with open(\"templates/animal-expert-w-macro.j2\", \"r\") as f:\n",
    "    template = f.read()\n",
    "\n",
    "prompt_jinja_t = PromptTemplate.from_template(\n",
    "    template,\n",
    "    template_format=\"jinja2\"\n",
    ")\n",
    "\n",
    "prompt = prompt_jinja_t.format(\n",
    "    animal=\"axolotls\",\n",
    "    kind = \"Copper Axolotl\",\n",
    "    features=[\"average size\", \"maximum age\", \"place of habitat\"]\n",
    ")\n",
    "\n",
    "print(prompt)"
   ]
  },
  {
   "cell_type": "markdown",
   "id": "6db4ddad",
   "metadata": {},
   "source": [
    "## Chat Messages with Templates"
   ]
  },
  {
   "cell_type": "code",
   "execution_count": 13,
   "id": "c78bb8ed",
   "metadata": {},
   "outputs": [],
   "source": [
    "from langchain.prompts import ChatPromptTemplate, HumanMessagePromptTemplate"
   ]
  },
  {
   "cell_type": "code",
   "execution_count": 14,
   "id": "57e53ae1",
   "metadata": {},
   "outputs": [],
   "source": [
    "chat_template = ChatPromptTemplate.from_messages(\n",
    "    [\n",
    "        (\"system\", \"You are an expert in {animal}.\"),\n",
    "        (\"human\", \"Acknowledge that you will only tell me the facts.\"),\n",
    "        (\"assistant\", \"Acknowledged.\"),\n",
    "        HumanMessagePromptTemplate.from_template(template, template_format=\"jinja2\")\n",
    "    ]\n",
    ")"
   ]
  },
  {
   "cell_type": "code",
   "execution_count": 15,
   "id": "413702ca",
   "metadata": {},
   "outputs": [],
   "source": [
    "messages = chat_template.format_messages(\n",
    "    animal=\"axolotls\",\n",
    "    kind = \"Copper Axolotl\",\n",
    "    features=[\"average size\", \"maximum age\", \"place of habitat\"]\n",
    ")"
   ]
  },
  {
   "cell_type": "code",
   "execution_count": 16,
   "id": "28404fd8",
   "metadata": {},
   "outputs": [
    {
     "data": {
      "text/plain": [
       "[SystemMessage(content='You are an expert in axolotls.'),\n",
       " HumanMessage(content='Acknowledge that you will only tell me the facts.'),\n",
       " AIMessage(content='Acknowledged.'),\n",
       " HumanMessage(content='You are an expert in cute axolotls.\\nYou know everything about these creatures.\\n\\nOnwards discuss only cute Copper Axolotl. I need information about the following characteristics:\\n- average size\\n- maximum age\\n- place of habitat\\n')]"
      ]
     },
     "execution_count": 16,
     "metadata": {},
     "output_type": "execute_result"
    }
   ],
   "source": [
    "messages"
   ]
  },
  {
   "cell_type": "markdown",
   "id": "6f8e9f95",
   "metadata": {},
   "source": [
    "## Structure your outputs"
   ]
  },
  {
   "cell_type": "code",
   "execution_count": 17,
   "id": "338dfb5d",
   "metadata": {},
   "outputs": [],
   "source": [
    "# !pip install openai\n",
    "# Create an API key at https://platform.openai.com/api-keys.\n",
    "# Use your API key instead of the placeholder below."
   ]
  },
  {
   "cell_type": "code",
   "execution_count": 18,
   "id": "52c7c6e9",
   "metadata": {},
   "outputs": [],
   "source": [
    "import json\n",
    "from openai import OpenAI"
   ]
  },
  {
   "cell_type": "code",
   "execution_count": 19,
   "id": "ba715c6c",
   "metadata": {},
   "outputs": [],
   "source": [
    "client = OpenAI(api_key=\"<YOUR_KEY>\")"
   ]
  },
  {
   "cell_type": "code",
   "execution_count": 20,
   "id": "3047207b",
   "metadata": {},
   "outputs": [
    {
     "name": "stdout",
     "output_type": "stream",
     "text": [
      "You are an expert in axolotls.\n",
      "You know everything about these creatures.\n",
      "\n",
      "I need information about the following characteristics:\n",
      "- average size\n",
      "- maximum age\n",
      "- place of habitat\n",
      "\n",
      "\n",
      "Print the output in the JSON format:\n",
      "\n",
      "{\n",
      "  \"average size\": \"\",\n",
      "  \"maximum age\": \"\",\n",
      "  \"place of habitat\": \"\",\n",
      "\n",
      "}\n"
     ]
    }
   ],
   "source": [
    "# Option 1. Add the output example to the prompt (directly or via Jinja syntax)\n",
    "\n",
    "with open(\"templates/animal-expert-json.j2\", \"r\") as f:\n",
    "    template = f.read()\n",
    "\n",
    "prompt_jinja_t = PromptTemplate.from_template(\n",
    "    template,\n",
    "    template_format=\"jinja2\"\n",
    ")\n",
    "\n",
    "prompt = prompt_jinja_t.format(\n",
    "    animal=\"axolotls\",\n",
    "    kind = None,\n",
    "    features=[\"average size\", \"maximum age\", \"place of habitat\"]\n",
    ")\n",
    "print(prompt)"
   ]
  },
  {
   "cell_type": "code",
   "execution_count": 21,
   "id": "8e5247a7",
   "metadata": {},
   "outputs": [],
   "source": [
    "def generate(prompt):\n",
    "    chat_completion = client.chat.completions.create(\n",
    "        messages=[{\"role\": \"user\",\n",
    "                   \"content\": prompt}],\n",
    "        model=\"gpt-3.5-turbo\"\n",
    "    )\n",
    "    return chat_completion.choices[0].message.content"
   ]
  },
  {
   "cell_type": "code",
   "execution_count": 22,
   "id": "3094f539",
   "metadata": {},
   "outputs": [
    {
     "data": {
      "text/plain": [
       "{'average size': '15 to 45 cm (6 to 18 inches)',\n",
       " 'maximum age': '10 to 15 years in captivity',\n",
       " 'place of habitat': 'Originally found in the lake complex of Xochimilco and Chalco in central Mexico, now mostly found in captivity as they are critically endangered in the wild'}"
      ]
     },
     "execution_count": 22,
     "metadata": {},
     "output_type": "execute_result"
    }
   ],
   "source": [
    "json.loads(generate(prompt))"
   ]
  },
  {
   "cell_type": "code",
   "execution_count": 23,
   "id": "c015ac97",
   "metadata": {},
   "outputs": [],
   "source": [
    "# Option 2. JSON mode: mention JSON in the prompt and also specify the response format\n",
    "\n",
    "def generate_json(prompt):\n",
    "    chat_completion = client.chat.completions.create(\n",
    "        messages=[{\"role\": \"user\",\n",
    "                   \"content\": prompt}],\n",
    "        model=\"gpt-3.5-turbo\",\n",
    "        response_format={\"type\": \"json_object\"}\n",
    "    )\n",
    "    return chat_completion.choices[0].message.content"
   ]
  },
  {
   "cell_type": "code",
   "execution_count": 24,
   "id": "f921d2c9",
   "metadata": {},
   "outputs": [
    {
     "data": {
      "text/plain": [
       "{'average size': 'Axolotls typically grow to be around 6 to 18 inches in length',\n",
       " 'maximum age': 'Axolotls can live up to 15 years in captivity',\n",
       " 'place of habitat': 'Axolotls are native to the waters of Lake Xochimilco and Lake Chalco in central Mexico'}"
      ]
     },
     "execution_count": 24,
     "metadata": {},
     "output_type": "execute_result"
    }
   ],
   "source": [
    "json.loads(generate_json(prompt))"
   ]
  },
  {
   "cell_type": "code",
   "execution_count": 25,
   "id": "366d4265",
   "metadata": {},
   "outputs": [],
   "source": [
    "# Option 3. Use function calls\n",
    "\n",
    "animal_features = [\n",
    "    {\"type\": \"function\",\n",
    "     \"function\": {\n",
    "         \"name\": \"describe_features\",\n",
    "          \"description\": \"Describe given features of an animal\",\n",
    "          \"parameters\": {\n",
    "              \"type\": \"object\",\n",
    "              \"properties\": {\n",
    "                  \"average size\": {\n",
    "                      \"type\": \"string\",\n",
    "                      \"description\": \"The size of the animal.\"\n",
    "                      },\n",
    "                  \"maximum age\": {\n",
    "                      \"type\": \"string\",\n",
    "                      \"description\": \"The maximum age of the animal.\"\n",
    "                      },\n",
    "                  \"place of habitat\": {\n",
    "                      \"type\": \"string\",\n",
    "                      \"description\": \"The place where the animal lives.\"\n",
    "                      }\n",
    "                }\n",
    "              }\n",
    "         }\n",
    "     }\n",
    "    ]"
   ]
  },
  {
   "cell_type": "code",
   "execution_count": 26,
   "id": "33f82b9e",
   "metadata": {},
   "outputs": [
    {
     "name": "stdout",
     "output_type": "stream",
     "text": [
      "You are an expert in axolotls.\n",
      "You know everything about these creatures.\n",
      "\n",
      "I need information about the following characteristics:\n",
      "- average size\n",
      "- maximum age\n",
      "- place of habitat\n",
      "\n"
     ]
    }
   ],
   "source": [
    "with open(\"templates/animal-expert.j2\", \"r\") as f:\n",
    "    template = f.read()\n",
    "\n",
    "prompt_jinja_t = PromptTemplate.from_template(\n",
    "    template,\n",
    "    template_format=\"jinja2\"\n",
    ")\n",
    "\n",
    "prompt = prompt_jinja_t.format(\n",
    "    animal=\"axolotls\",\n",
    "    kind = None,\n",
    "    features=[\"average size\", \"maximum age\", \"place of habitat\"]\n",
    ")\n",
    "print(prompt)"
   ]
  },
  {
   "cell_type": "code",
   "execution_count": 27,
   "id": "0afa3646",
   "metadata": {},
   "outputs": [],
   "source": [
    "def generate_w_tools(prompt, tools):\n",
    "    chat_completion = client.chat.completions.create(\n",
    "        messages=[{\"role\": \"user\",\n",
    "                   \"content\": prompt}],\n",
    "        model=\"gpt-3.5-turbo\",\n",
    "        tools=tools\n",
    "    )\n",
    "    return chat_completion.choices[0].message.dict()['tool_calls'][0][\"function\"][\"arguments\"]"
   ]
  },
  {
   "cell_type": "code",
   "execution_count": 28,
   "id": "78f2047c",
   "metadata": {},
   "outputs": [
    {
     "data": {
      "text/plain": [
       "{'average size': '10-18 inches',\n",
       " 'maximum age': '15 years',\n",
       " 'place of habitat': 'Freshwater lakes and ponds in Mexico'}"
      ]
     },
     "execution_count": 28,
     "metadata": {},
     "output_type": "execute_result"
    }
   ],
   "source": [
    "json.loads(generate_w_tools(prompt, animal_features))"
   ]
  },
  {
   "cell_type": "code",
   "execution_count": null,
   "id": "e6661e13",
   "metadata": {},
   "outputs": [],
   "source": []
  }
 ],
 "metadata": {
  "kernelspec": {
   "display_name": "Python 3 (ipykernel)",
   "language": "python",
   "name": "python3"
  },
  "language_info": {
   "codemirror_mode": {
    "name": "ipython",
    "version": 3
   },
   "file_extension": ".py",
   "mimetype": "text/x-python",
   "name": "python",
   "nbconvert_exporter": "python",
   "pygments_lexer": "ipython3",
   "version": "3.9.6"
  }
 },
 "nbformat": 4,
 "nbformat_minor": 5
}
